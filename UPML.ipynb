{
 "cells": [
  {
   "cell_type": "markdown",
   "metadata": {},
   "source": [
    "# UPML\n",
    "## Unification & Pattern Matching Language\n",
    "\n",
    "(c) Dmitry Ponyatov <<dponyatov@gmail.com>> MIT 2019 All rights reserved\n",
    "\n",
    "github: https://github.com/ponyatov/UPML"
   ]
  },
  {
   "cell_type": "markdown",
   "metadata": {},
   "source": [
    "* view: https://nbviewer.jupyter.org/github/ponyatov/UPML/blob/master/UPML.ipynb\n",
    "  * run online: https://mybinder.org/v2/gh/ponyatov/UPML/master?filepath=UPML.ipynb"
   ]
  },
  {
   "cell_type": "code",
   "execution_count": 1,
   "metadata": {},
   "outputs": [],
   "source": [
    "# %pip install -U pip\n",
    "# %pip install -U ply graphviz jupyter"
   ]
  },
  {
   "cell_type": "code",
   "execution_count": 2,
   "metadata": {},
   "outputs": [],
   "source": [
    "import os,sys"
   ]
  },
  {
   "cell_type": "markdown",
   "metadata": {},
   "source": [
    "# Universal data type: directed hypergraph"
   ]
  },
  {
   "cell_type": "code",
   "execution_count": 3,
   "metadata": {},
   "outputs": [],
   "source": [
    "class Frame:\n",
    "\n",
    "    def __init__(self,V):\n",
    "        # class tag /required for PLY library/\n",
    "        self.type = self.__class__.__name__.lower()\n",
    "        # scalar value: name, string, number,..\n",
    "        self.val  = V\n",
    "        # attributes = edges to subgraphs = lookup vocabulary\n",
    "        self.slot = {}\n",
    "        # nested elements = ordered container = AST = stack\n",
    "        self.nest = []"
   ]
  },
  {
   "cell_type": "code",
   "execution_count": 4,
   "metadata": {},
   "outputs": [
    {
     "name": "stdout",
     "output_type": "stream",
     "text": [
      "<__main__.Frame object at 0x7f1de43d2400>\n"
     ]
    }
   ],
   "source": [
    "hello = Frame('hello') ; print(hello)"
   ]
  },
  {
   "cell_type": "markdown",
   "metadata": {},
   "source": [
    "## text dump"
   ]
  },
  {
   "cell_type": "code",
   "execution_count": 5,
   "metadata": {},
   "outputs": [],
   "source": [
    "class Frame(Frame):\n",
    "\n",
    "    def __repr__(self): return self.dump()\n",
    "\n",
    "    # full tree dump\n",
    "    def dump(self,depth=0,prefix='',voc=True):\n",
    "        # head\n",
    "        tree = self._pad(depth) + self.head(prefix)\n",
    "        # infinite recursion block\n",
    "        if not depth: Frame._dump = []\n",
    "        if self in Frame._dump: return tree + ' _/'\n",
    "        else: Frame._dump.append(self)\n",
    "        # slot{}s\n",
    "        if voc:\n",
    "            for i in self.slot:\n",
    "                tree += self.slot[i].dump(depth+1,'%s = '%i)\n",
    "        # nest[]ed\n",
    "        idx = 0\n",
    "        for j in self.nest:\n",
    "            tree += j.dump(depth+1,'%i: '%idx) ; idx += 1\n",
    "        # subtree dump\n",
    "        return tree\n",
    "\n",
    "    # <T:V> header only dump\n",
    "    def head(self,prefix=''):\n",
    "        return '%s<%s:%s> id:%x' % (prefix,self.type,self._val(),id(self))\n",
    "    \n",
    "    def _pad(self,depth):\n",
    "        return '\\n' + ' '*4 * depth\n",
    "    def _val(self):\n",
    "        return '%s' % self.val"
   ]
  },
  {
   "cell_type": "code",
   "execution_count": 6,
   "metadata": {},
   "outputs": [
    {
     "name": "stdout",
     "output_type": "stream",
     "text": [
      "\n",
      "<frame:hello> id:7f1de43d2c18\n"
     ]
    }
   ],
   "source": [
    "hello = Frame('hello') ; print(hello)"
   ]
  },
  {
   "cell_type": "markdown",
   "metadata": {},
   "source": [
    "## graph plot (in jupyter notebook)"
   ]
  },
  {
   "cell_type": "code",
   "execution_count": 7,
   "metadata": {},
   "outputs": [],
   "source": [
    "import graphviz\n",
    "\n",
    "class Frame(Frame):\n",
    "\n",
    "    def plot(self,dot=None,parent=None,link='',color='black'):\n",
    "        if not dot:\n",
    "            dot = graphviz.Digraph() ; dot.attr(rankdir='LR')\n",
    "            Frame._plot = []\n",
    "        # node\n",
    "        dot.node('%s'%id(self),label='%s:%s'%(self.type,self._val()))\n",
    "        if parent: dot.edge('%s'%id(parent),'%s'%id(self),label='%s'%link,color=color)\n",
    "        # infinite recursion block\n",
    "        if self in Frame._plot: return dot\n",
    "        else: Frame._plot.append(self)\n",
    "        # sub slot{}s\n",
    "        for i in self.slot:\n",
    "            dot = self.slot[i].plot(dot,parent=self,link=i,color='blue')\n",
    "        # nest[]ed\n",
    "        idx = 0\n",
    "        for j in self.nest:\n",
    "            dot = j.plot(dot,parent=self,link=idx,color='green') ; idx += 1\n",
    "        # subplot\n",
    "        return dot"
   ]
  },
  {
   "cell_type": "code",
   "execution_count": 8,
   "metadata": {},
   "outputs": [
    {
     "name": "stdout",
     "output_type": "stream",
     "text": [
      "\n",
      "<frame:hello> id:7f1de43dbc18\n"
     ]
    },
    {
     "data": {
      "image/svg+xml": [
       "<?xml version=\"1.0\" encoding=\"UTF-8\" standalone=\"no\"?>\n",
       "<!DOCTYPE svg PUBLIC \"-//W3C//DTD SVG 1.1//EN\"\n",
       " \"http://www.w3.org/Graphics/SVG/1.1/DTD/svg11.dtd\">\n",
       "<!-- Generated by graphviz version 2.38.0 (20140413.2041)\n",
       " -->\n",
       "<!-- Title: %3 Pages: 1 -->\n",
       "<svg width=\"112pt\" height=\"44pt\"\n",
       " viewBox=\"0.00 0.00 111.99 44.00\" xmlns=\"http://www.w3.org/2000/svg\" xmlns:xlink=\"http://www.w3.org/1999/xlink\">\n",
       "<g id=\"graph0\" class=\"graph\" transform=\"scale(1 1) rotate(0) translate(4 40)\">\n",
       "<title>%3</title>\n",
       "<polygon fill=\"white\" stroke=\"none\" points=\"-4,4 -4,-40 107.991,-40 107.991,4 -4,4\"/>\n",
       "<!-- 139766360030232 -->\n",
       "<g id=\"node1\" class=\"node\"><title>139766360030232</title>\n",
       "<ellipse fill=\"none\" stroke=\"black\" cx=\"51.9954\" cy=\"-18\" rx=\"51.9908\" ry=\"18\"/>\n",
       "<text text-anchor=\"middle\" x=\"51.9954\" y=\"-14.3\" font-family=\"Times,serif\" font-size=\"14.00\">frame:hello</text>\n",
       "</g>\n",
       "</g>\n",
       "</svg>\n"
      ],
      "text/plain": [
       "<graphviz.dot.Digraph at 0x7f1de43dbeb8>"
      ]
     },
     "execution_count": 8,
     "metadata": {},
     "output_type": "execute_result"
    }
   ],
   "source": [
    "hello = Frame('hello') ; print(hello) ; hello.plot()"
   ]
  },
  {
   "cell_type": "markdown",
   "metadata": {},
   "source": [
    "## operators"
   ]
  },
  {
   "cell_type": "code",
   "execution_count": 9,
   "metadata": {},
   "outputs": [],
   "source": [
    "class Frame(Frame):\n",
    "\n",
    "    # A[key]\n",
    "    def __getitem__(self,key):\n",
    "        return self.slot[key]\n",
    "\n",
    "    # A[key] = B\n",
    "    def __setitem__(self,key,that):\n",
    "        if callable(that): self[key] = Cmd(that) ; return self\n",
    "        self.slot[key] = that ; return self\n",
    "\n",
    "    # A << B -> A[B.type] = B\n",
    "    def __lshift__(self,that):\n",
    "        if callable(that): return self << Cmd(that)\n",
    "        self[that.type] = that ; return self\n",
    "\n",
    "    # A >> B -> A[B.val] = B\n",
    "    def __rshift__(self,that):\n",
    "        if callable(that): return self >> Cmd(that)\n",
    "        self[that.val ] = that ; return self\n",
    "\n",
    "    # A // B stack push\n",
    "    def __floordiv__(self,that):\n",
    "        if isinstance(that,str): return self // String(that)\n",
    "        self.nest.append(that) ; return self"
   ]
  },
  {
   "cell_type": "code",
   "execution_count": 10,
   "metadata": {},
   "outputs": [
    {
     "name": "stdout",
     "output_type": "stream",
     "text": [
      "\n",
      "<frame:hello> id:7f1de43db080\n",
      "    0: <frame:world> id:7f1de43db630\n"
     ]
    },
    {
     "data": {
      "image/svg+xml": [
       "<?xml version=\"1.0\" encoding=\"UTF-8\" standalone=\"no\"?>\n",
       "<!DOCTYPE svg PUBLIC \"-//W3C//DTD SVG 1.1//EN\"\n",
       " \"http://www.w3.org/Graphics/SVG/1.1/DTD/svg11.dtd\">\n",
       "<!-- Generated by graphviz version 2.38.0 (20140413.2041)\n",
       " -->\n",
       "<!-- Title: %3 Pages: 1 -->\n",
       "<svg width=\"264pt\" height=\"44pt\"\n",
       " viewBox=\"0.00 0.00 264.18 44.00\" xmlns=\"http://www.w3.org/2000/svg\" xmlns:xlink=\"http://www.w3.org/1999/xlink\">\n",
       "<g id=\"graph0\" class=\"graph\" transform=\"scale(1 1) rotate(0) translate(4 40)\">\n",
       "<title>%3</title>\n",
       "<polygon fill=\"white\" stroke=\"none\" points=\"-4,4 -4,-40 260.181,-40 260.181,4 -4,4\"/>\n",
       "<!-- 139766360027264 -->\n",
       "<g id=\"node1\" class=\"node\"><title>139766360027264</title>\n",
       "<ellipse fill=\"none\" stroke=\"black\" cx=\"51.9954\" cy=\"-18\" rx=\"51.9908\" ry=\"18\"/>\n",
       "<text text-anchor=\"middle\" x=\"51.9954\" y=\"-14.3\" font-family=\"Times,serif\" font-size=\"14.00\">frame:hello</text>\n",
       "</g>\n",
       "<!-- 139766360028720 -->\n",
       "<g id=\"node2\" class=\"node\"><title>139766360028720</title>\n",
       "<ellipse fill=\"none\" stroke=\"black\" cx=\"201.586\" cy=\"-18\" rx=\"54.6905\" ry=\"18\"/>\n",
       "<text text-anchor=\"middle\" x=\"201.586\" y=\"-14.3\" font-family=\"Times,serif\" font-size=\"14.00\">frame:world</text>\n",
       "</g>\n",
       "<!-- 139766360027264&#45;&gt;139766360028720 -->\n",
       "<g id=\"edge1\" class=\"edge\"><title>139766360027264&#45;&gt;139766360028720</title>\n",
       "<path fill=\"none\" stroke=\"green\" d=\"M104.201,-18C114.675,-18 125.82,-18 136.675,-18\"/>\n",
       "<polygon fill=\"green\" stroke=\"green\" points=\"136.962,-21.5001 146.962,-18 136.962,-14.5001 136.962,-21.5001\"/>\n",
       "<text text-anchor=\"middle\" x=\"125.491\" y=\"-21.8\" font-family=\"Times,serif\" font-size=\"14.00\">0</text>\n",
       "</g>\n",
       "</g>\n",
       "</svg>\n"
      ],
      "text/plain": [
       "<graphviz.dot.Digraph at 0x7f1de43db6d8>"
      ]
     },
     "execution_count": 10,
     "metadata": {},
     "output_type": "execute_result"
    }
   ],
   "source": [
    "\n",
    "hello = Frame('hello') // Frame('world') ; print(hello) ; hello.plot()"
   ]
  },
  {
   "cell_type": "markdown",
   "metadata": {},
   "source": [
    "## stack operations"
   ]
  },
  {
   "cell_type": "code",
   "execution_count": 11,
   "metadata": {},
   "outputs": [],
   "source": [
    "class Frame(Frame):\n",
    "\n",
    "    def pop(self): return self.nest.pop(-1)\n",
    "    def top(self): return self.nest[-1]\n",
    "    def dropall(self): self.nest = []"
   ]
  },
  {
   "cell_type": "markdown",
   "metadata": {},
   "source": [
    "# Primitive data: symbol, string, numbers"
   ]
  },
  {
   "cell_type": "code",
   "execution_count": 12,
   "metadata": {},
   "outputs": [],
   "source": [
    "class Primitive(Frame): pass\n",
    "class Symbol(Primitive): pass\n",
    "class String(Primitive): pass"
   ]
  },
  {
   "cell_type": "markdown",
   "metadata": {},
   "source": [
    "# EDS: Executable Data Structure"
   ]
  },
  {
   "cell_type": "code",
   "execution_count": 13,
   "metadata": {},
   "outputs": [],
   "source": [
    "class Active(Frame): pass"
   ]
  },
  {
   "cell_type": "markdown",
   "metadata": {},
   "source": [
    "### Stack Virtual Machine"
   ]
  },
  {
   "cell_type": "code",
   "execution_count": 14,
   "metadata": {},
   "outputs": [
    {
     "name": "stdout",
     "output_type": "stream",
     "text": [
      "\n",
      "<vm:UPML> id:7f1de438b1d0\n",
      "    vm = <vm:UPML> id:7f1de438b1d0 _/\n"
     ]
    },
    {
     "data": {
      "image/svg+xml": [
       "<?xml version=\"1.0\" encoding=\"UTF-8\" standalone=\"no\"?>\n",
       "<!DOCTYPE svg PUBLIC \"-//W3C//DTD SVG 1.1//EN\"\n",
       " \"http://www.w3.org/Graphics/SVG/1.1/DTD/svg11.dtd\">\n",
       "<!-- Generated by graphviz version 2.38.0 (20140413.2041)\n",
       " -->\n",
       "<!-- Title: %3 Pages: 1 -->\n",
       "<svg width=\"108pt\" height=\"77pt\"\n",
       " viewBox=\"0.00 0.00 108.09 77.00\" xmlns=\"http://www.w3.org/2000/svg\" xmlns:xlink=\"http://www.w3.org/1999/xlink\">\n",
       "<g id=\"graph0\" class=\"graph\" transform=\"scale(1 1) rotate(0) translate(4 73)\">\n",
       "<title>%3</title>\n",
       "<polygon fill=\"white\" stroke=\"none\" points=\"-4,4 -4,-73 104.091,-73 104.091,4 -4,4\"/>\n",
       "<!-- 139766359699920 -->\n",
       "<g id=\"node1\" class=\"node\"><title>139766359699920</title>\n",
       "<ellipse fill=\"none\" stroke=\"black\" cx=\"50.0456\" cy=\"-18\" rx=\"50.0912\" ry=\"18\"/>\n",
       "<text text-anchor=\"middle\" x=\"50.0456\" y=\"-14.3\" font-family=\"Times,serif\" font-size=\"14.00\">vm:UPML</text>\n",
       "</g>\n",
       "<!-- 139766359699920&#45;&gt;139766359699920 -->\n",
       "<g id=\"edge1\" class=\"edge\"><title>139766359699920&#45;&gt;139766359699920</title>\n",
       "<path fill=\"none\" stroke=\"blue\" d=\"M32.3255,-35.0373C28.7092,-44.8579 34.6159,-54 50.0456,-54 59.6891,-54 65.6127,-50.4289 67.8164,-45.3529\"/>\n",
       "<polygon fill=\"blue\" stroke=\"blue\" points=\"71.3149,-45.0199 67.7656,-35.0373 64.315,-45.0545 71.3149,-45.0199\"/>\n",
       "<text text-anchor=\"middle\" x=\"50.0456\" y=\"-57.8\" font-family=\"Times,serif\" font-size=\"14.00\">vm</text>\n",
       "</g>\n",
       "</g>\n",
       "</svg>\n"
      ],
      "text/plain": [
       "<graphviz.dot.Digraph at 0x7f1de438b208>"
      ]
     },
     "execution_count": 14,
     "metadata": {},
     "output_type": "execute_result"
    }
   ],
   "source": [
    "# Virtual Machine\n",
    "class VM(Active): pass\n",
    "\n",
    "vm = VM('UPML') ; vm << vm\n",
    "\n",
    "print(vm) ; vm.plot()"
   ]
  },
  {
   "cell_type": "markdown",
   "metadata": {},
   "source": [
    "### Commands: wrapped functions applied to VM context"
   ]
  },
  {
   "cell_type": "code",
   "execution_count": 15,
   "metadata": {},
   "outputs": [],
   "source": [
    "# Command: wrapper for function F(context)\n",
    "class Cmd(Active):\n",
    "    def __init__(self, F):\n",
    "        Active.__init__(self,F.__name__)\n",
    "        self.fn = F\n",
    "    def eval(self,ctx):\n",
    "        self.fn(ctx)"
   ]
  },
  {
   "cell_type": "markdown",
   "metadata": {},
   "source": [
    "**Context** is some stack VM: stack for data manipulations, and environment (vocabulary) for variables lookup and storage.\n",
    "\n",
    "As *any `Frame` has `nest[]` as a stack and `slot{}` as vocabulary*, in the `metaL` model we can apply any command to any data."
   ]
  },
  {
   "cell_type": "markdown",
   "metadata": {},
   "source": [
    "## Manipulations"
   ]
  },
  {
   "cell_type": "code",
   "execution_count": 16,
   "metadata": {},
   "outputs": [],
   "source": [
    "def DOT(ctx): ctx.dropall()\n",
    "vm['.'] = DOT"
   ]
  },
  {
   "cell_type": "markdown",
   "metadata": {},
   "source": [
    "# FORTH-like concatenative language"
   ]
  },
  {
   "cell_type": "markdown",
   "metadata": {},
   "source": [
    "It can be easier to use a special language than Python, FORTH is the simplest programming language from the viewpoint of implementation."
   ]
  },
  {
   "cell_type": "markdown",
   "metadata": {},
   "source": [
    "### no-syntax lexer uses PLY library"
   ]
  },
  {
   "cell_type": "code",
   "execution_count": 17,
   "metadata": {},
   "outputs": [],
   "source": [
    "import ply.lex  as lex\n",
    "\n",
    "__file__ = '__file__'\n",
    "\n",
    "tokens = ['symbol']\n",
    "\n",
    "t_ignore         = ' \\t\\r\\n'\n",
    "t_ignore_comment = r'[\\#\\\\].*'\n",
    "\n",
    "def t_symbol(t):\n",
    "    r'[`?]|[^ \\t\\r\\n\\#\\\\]+'\n",
    "    return Symbol(t.value)\n",
    "\n",
    "def t_error(t): raise SyntaxError(t)"
   ]
  },
  {
   "cell_type": "markdown",
   "metadata": {},
   "source": [
    "## Interpreter"
   ]
  },
  {
   "cell_type": "markdown",
   "metadata": {},
   "source": [
    "It's the classical `WORD-FIND-EXECUTE` loop"
   ]
  },
  {
   "cell_type": "code",
   "execution_count": 18,
   "metadata": {},
   "outputs": [],
   "source": [
    "def WORD(ctx):\n",
    "    token = ctx.lexer.token()\n",
    "    if token: ctx // token\n",
    "    return token\n",
    "vm['`'] = WORD ; vm['WORD'] = vm['`']\n",
    "\n",
    "def FIND(ctx):\n",
    "    token = ctx.pop()\n",
    "    try:             ctx // ctx[token.val] ; return True\n",
    "    except KeyError: ctx // token          ; return False\n",
    "vm >> FIND\n",
    "\n",
    "def EVAL(ctx): ctx.pop().eval(ctx)\n",
    "vm['EXECUTE'] = EVAL\n",
    "\n",
    "def INTERP(ctx):\n",
    "    ctx.lexer = lex.lex() ; ctx.lexer.input(ctx.pop().val)\n",
    "    while True:\n",
    "        if not WORD(ctx): break\n",
    "        if isinstance(ctx.top(),Symbol):\n",
    "            if not FIND(ctx): raise SyntaxError(ctx.top())\n",
    "        EVAL(ctx)\n",
    "vm['INTERPRET'] = INTERP\n",
    "\n",
    "def M(SRC):\n",
    "    vm // SRC ; INTERP(vm) ; print(vm.dump(voc=False))"
   ]
  },
  {
   "cell_type": "code",
   "execution_count": 19,
   "metadata": {},
   "outputs": [
    {
     "data": {
      "image/svg+xml": [
       "<?xml version=\"1.0\" encoding=\"UTF-8\" standalone=\"no\"?>\n",
       "<!DOCTYPE svg PUBLIC \"-//W3C//DTD SVG 1.1//EN\"\n",
       " \"http://www.w3.org/Graphics/SVG/1.1/DTD/svg11.dtd\">\n",
       "<!-- Generated by graphviz version 2.38.0 (20140413.2041)\n",
       " -->\n",
       "<!-- Title: %3 Pages: 1 -->\n",
       "<svg width=\"337pt\" height=\"263pt\"\n",
       " viewBox=\"0.00 0.00 336.68 263.00\" xmlns=\"http://www.w3.org/2000/svg\" xmlns:xlink=\"http://www.w3.org/1999/xlink\">\n",
       "<g id=\"graph0\" class=\"graph\" transform=\"scale(1 1) rotate(0) translate(4 259)\">\n",
       "<title>%3</title>\n",
       "<polygon fill=\"white\" stroke=\"none\" points=\"-4,4 -4,-259 332.681,-259 332.681,4 -4,4\"/>\n",
       "<!-- 139766359699920 -->\n",
       "<g id=\"node1\" class=\"node\"><title>139766359699920</title>\n",
       "<ellipse fill=\"none\" stroke=\"black\" cx=\"50.0456\" cy=\"-145\" rx=\"50.0912\" ry=\"18\"/>\n",
       "<text text-anchor=\"middle\" x=\"50.0456\" y=\"-141.3\" font-family=\"Times,serif\" font-size=\"14.00\">vm:UPML</text>\n",
       "</g>\n",
       "<!-- 139766359699920&#45;&gt;139766359699920 -->\n",
       "<g id=\"edge7\" class=\"edge\"><title>139766359699920&#45;&gt;139766359699920</title>\n",
       "<path fill=\"none\" stroke=\"blue\" d=\"M31.6167,-162.037C27.8557,-171.858 33.9987,-181 50.0456,-181 60.0749,-181 66.2354,-177.429 68.5273,-172.353\"/>\n",
       "<polygon fill=\"blue\" stroke=\"blue\" points=\"72.0257,-172.019 68.4744,-162.037 65.0258,-172.055 72.0257,-172.019\"/>\n",
       "<text text-anchor=\"middle\" x=\"50.0456\" y=\"-184.8\" font-family=\"Times,serif\" font-size=\"14.00\">vm</text>\n",
       "</g>\n",
       "<!-- 139766359781728 -->\n",
       "<g id=\"node2\" class=\"node\"><title>139766359781728</title>\n",
       "<ellipse fill=\"none\" stroke=\"black\" cx=\"268.886\" cy=\"-237\" rx=\"55.7903\" ry=\"18\"/>\n",
       "<text text-anchor=\"middle\" x=\"268.886\" y=\"-233.3\" font-family=\"Times,serif\" font-size=\"14.00\">cmd:WORD</text>\n",
       "</g>\n",
       "<!-- 139766359699920&#45;&gt;139766359781728 -->\n",
       "<g id=\"edge1\" class=\"edge\"><title>139766359699920&#45;&gt;139766359781728</title>\n",
       "<path fill=\"none\" stroke=\"blue\" d=\"M61.9407,-162.765C73.5574,-180.003 93.6323,-205.359 118.091,-218 143.903,-231.341 175.445,-236.691 202.915,-238.469\"/>\n",
       "<polygon fill=\"blue\" stroke=\"blue\" points=\"203.061,-241.981 213.224,-238.985 203.411,-234.99 203.061,-241.981\"/>\n",
       "<text text-anchor=\"middle\" x=\"154.591\" y=\"-240.8\" font-family=\"Times,serif\" font-size=\"14.00\">`</text>\n",
       "</g>\n",
       "<!-- 139766359699920&#45;&gt;139766359781728 -->\n",
       "<g id=\"edge2\" class=\"edge\"><title>139766359699920&#45;&gt;139766359781728</title>\n",
       "<path fill=\"none\" stroke=\"blue\" d=\"M76.835,-160.215C89.0408,-166.955 104.001,-174.57 118.091,-180 149.373,-192.057 159.68,-187.282 191.091,-199 198.824,-201.885 214.283,-209.409 229.316,-217.008\"/>\n",
       "<polygon fill=\"blue\" stroke=\"blue\" points=\"228.049,-220.29 238.549,-221.708 231.225,-214.052 228.049,-220.29\"/>\n",
       "<text text-anchor=\"middle\" x=\"154.591\" y=\"-202.8\" font-family=\"Times,serif\" font-size=\"14.00\">WORD</text>\n",
       "</g>\n",
       "<!-- 139766359782008 -->\n",
       "<g id=\"node3\" class=\"node\"><title>139766359782008</title>\n",
       "<ellipse fill=\"none\" stroke=\"black\" cx=\"268.886\" cy=\"-180\" rx=\"51.9908\" ry=\"18\"/>\n",
       "<text text-anchor=\"middle\" x=\"268.886\" y=\"-176.3\" font-family=\"Times,serif\" font-size=\"14.00\">cmd:EVAL</text>\n",
       "</g>\n",
       "<!-- 139766359699920&#45;&gt;139766359782008 -->\n",
       "<g id=\"edge3\" class=\"edge\"><title>139766359699920&#45;&gt;139766359782008</title>\n",
       "<path fill=\"none\" stroke=\"blue\" d=\"M97.501,-151.029C124.808,-154.724 159.972,-159.742 191.091,-165 198.449,-166.243 206.184,-167.643 213.797,-169.076\"/>\n",
       "<polygon fill=\"blue\" stroke=\"blue\" points=\"213.213,-172.528 223.693,-170.968 214.528,-165.652 213.213,-172.528\"/>\n",
       "<text text-anchor=\"middle\" x=\"154.591\" y=\"-168.8\" font-family=\"Times,serif\" font-size=\"14.00\">EXECUTE</text>\n",
       "</g>\n",
       "<!-- 139766359782064 -->\n",
       "<g id=\"node4\" class=\"node\"><title>139766359782064</title>\n",
       "<ellipse fill=\"none\" stroke=\"black\" cx=\"268.886\" cy=\"-126\" rx=\"59.5901\" ry=\"18\"/>\n",
       "<text text-anchor=\"middle\" x=\"268.886\" y=\"-122.3\" font-family=\"Times,serif\" font-size=\"14.00\">cmd:INTERP</text>\n",
       "</g>\n",
       "<!-- 139766359699920&#45;&gt;139766359782064 -->\n",
       "<g id=\"edge4\" class=\"edge\"><title>139766359699920&#45;&gt;139766359782064</title>\n",
       "<path fill=\"none\" stroke=\"blue\" d=\"M88.2883,-133.194C97.8993,-130.648 108.298,-128.325 118.091,-127 144.597,-123.414 173.982,-122.548 199.656,-122.795\"/>\n",
       "<polygon fill=\"blue\" stroke=\"blue\" points=\"199.616,-126.295 209.668,-122.948 199.723,-119.295 199.616,-126.295\"/>\n",
       "<text text-anchor=\"middle\" x=\"154.591\" y=\"-130.8\" font-family=\"Times,serif\" font-size=\"14.00\">INTERPRET</text>\n",
       "</g>\n",
       "<!-- 139766359702216 -->\n",
       "<g id=\"node5\" class=\"node\"><title>139766359702216</title>\n",
       "<ellipse fill=\"none\" stroke=\"black\" cx=\"268.886\" cy=\"-72\" rx=\"46.5926\" ry=\"18\"/>\n",
       "<text text-anchor=\"middle\" x=\"268.886\" y=\"-68.3\" font-family=\"Times,serif\" font-size=\"14.00\">cmd:DOT</text>\n",
       "</g>\n",
       "<!-- 139766359699920&#45;&gt;139766359702216 -->\n",
       "<g id=\"edge5\" class=\"edge\"><title>139766359699920&#45;&gt;139766359702216</title>\n",
       "<path fill=\"none\" stroke=\"blue\" d=\"M72.6303,-128.706C85.2768,-119.888 101.904,-109.5 118.091,-103 148.624,-90.7393 184.687,-83.0853 213.777,-78.4507\"/>\n",
       "<polygon fill=\"blue\" stroke=\"blue\" points=\"214.395,-81.8972 223.755,-76.9347 213.343,-74.9766 214.395,-81.8972\"/>\n",
       "<text text-anchor=\"middle\" x=\"154.591\" y=\"-106.8\" font-family=\"Times,serif\" font-size=\"14.00\">.</text>\n",
       "</g>\n",
       "<!-- 139766359781784 -->\n",
       "<g id=\"node6\" class=\"node\"><title>139766359781784</title>\n",
       "<ellipse fill=\"none\" stroke=\"black\" cx=\"268.886\" cy=\"-18\" rx=\"49.2915\" ry=\"18\"/>\n",
       "<text text-anchor=\"middle\" x=\"268.886\" y=\"-14.3\" font-family=\"Times,serif\" font-size=\"14.00\">cmd:FIND</text>\n",
       "</g>\n",
       "<!-- 139766359699920&#45;&gt;139766359781784 -->\n",
       "<g id=\"edge6\" class=\"edge\"><title>139766359699920&#45;&gt;139766359781784</title>\n",
       "<path fill=\"none\" stroke=\"blue\" d=\"M61.0805,-127.328C72.5475,-108.688 93.0085,-79.744 118.091,-63 146.397,-44.1046 182.89,-32.9248 212.77,-26.4349\"/>\n",
       "<polygon fill=\"blue\" stroke=\"blue\" points=\"213.538,-29.8504 222.629,-24.4094 212.129,-22.9937 213.538,-29.8504\"/>\n",
       "<text text-anchor=\"middle\" x=\"154.591\" y=\"-66.8\" font-family=\"Times,serif\" font-size=\"14.00\">FIND</text>\n",
       "</g>\n",
       "</g>\n",
       "</svg>\n"
      ],
      "text/plain": [
       "<graphviz.dot.Digraph at 0x7f1de43df780>"
      ]
     },
     "execution_count": 19,
     "metadata": {},
     "output_type": "execute_result"
    }
   ],
   "source": [
    "vm.plot()"
   ]
  },
  {
   "cell_type": "code",
   "execution_count": 20,
   "metadata": {},
   "outputs": [
    {
     "name": "stdout",
     "output_type": "stream",
     "text": [
      "\n",
      "<vm:UPML> id:7f1de438b1d0\n"
     ]
    }
   ],
   "source": [
    "M('''\n",
    "# line comment\n",
    "\\ FORTH comment\n",
    "''')"
   ]
  },
  {
   "cell_type": "code",
   "execution_count": 21,
   "metadata": {},
   "outputs": [
    {
     "name": "stdout",
     "output_type": "stream",
     "text": [
      "\n",
      "<vm:UPML> id:7f1de438b1d0\n"
     ]
    }
   ],
   "source": [
    "M('. \\ drop stack')"
   ]
  },
  {
   "cell_type": "markdown",
   "metadata": {},
   "source": [
    "# Yield Prolog\n",
    "http://yieldprolog.sourceforge.net/"
   ]
  },
  {
   "cell_type": "markdown",
   "metadata": {},
   "source": [
    "### unifying variable"
   ]
  },
  {
   "cell_type": "code",
   "execution_count": 22,
   "metadata": {},
   "outputs": [],
   "source": [
    "class Var(Frame): pass\n",
    "\n",
    "def Q(ctx): ctx // Var(ctx.lexer.token().val)\n",
    "vm['?'] = Q"
   ]
  },
  {
   "cell_type": "markdown",
   "metadata": {},
   "source": [
    "* ` (backtick) prefix required before any symbol to leave it on the stack without vocabulary lookup (quotation)\n",
    "* **unifying variable** so fundamental as we need to inherit `Var` class directly from the `Frame`, and add special prefix into syntax"
   ]
  },
  {
   "cell_type": "code",
   "execution_count": 23,
   "metadata": {},
   "outputs": [
    {
     "name": "stdout",
     "output_type": "stream",
     "text": [
      "\n",
      "<vm:UPML> id:7f1de438b1d0\n",
      "    0: <symbol:Symbol> id:7f1de43dbac8\n",
      "    1: <var:Variable> id:7f1de43dfa20\n"
     ]
    }
   ],
   "source": [
    "M('''\n",
    ". `Symbol ?Variable\n",
    "''')"
   ]
  },
  {
   "cell_type": "code",
   "execution_count": null,
   "metadata": {},
   "outputs": [],
   "source": []
  }
 ],
 "metadata": {
  "kernelspec": {
   "display_name": "Python 3",
   "language": "python",
   "name": "python3"
  },
  "language_info": {
   "codemirror_mode": {
    "name": "ipython",
    "version": 3
   },
   "file_extension": ".py",
   "mimetype": "text/x-python",
   "name": "python",
   "nbconvert_exporter": "python",
   "pygments_lexer": "ipython3",
   "version": "3.5.3"
  }
 },
 "nbformat": 4,
 "nbformat_minor": 2
}

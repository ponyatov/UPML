{
 "cells": [
  {
   "cell_type": "markdown",
   "metadata": {},
   "source": [
    "# UPML\n",
    "## Unification & Pattern Matching Language\n",
    "\n",
    "(c) Dmitry Ponyatov <<dponyatov@gmail.com>> MIT 2019 All rights reserved\n",
    "\n",
    "github: https://bitbucket.org/ponyatov/UPML"
   ]
  },
  {
   "cell_type": "code",
   "execution_count": 1,
   "metadata": {},
   "outputs": [],
   "source": [
    "# %pip install -U pip\n",
    "# %pip install -U ply graphviz jupyter"
   ]
  },
  {
   "cell_type": "code",
   "execution_count": 2,
   "metadata": {},
   "outputs": [],
   "source": [
    "import os,sys"
   ]
  },
  {
   "cell_type": "markdown",
   "metadata": {},
   "source": [
    "# Universal data type: directed hypergraph"
   ]
  },
  {
   "cell_type": "code",
   "execution_count": 3,
   "metadata": {},
   "outputs": [],
   "source": [
    "class Frame:\n",
    "\n",
    "    def __init__(self,V):\n",
    "        # class tag /required for PLY library/\n",
    "        self.type = self.__class__.__name__.lower()\n",
    "        # scalar value: name, string, number,..\n",
    "        self.val  = V\n",
    "        # attributes = edges to subgraphs = lookup vocabulary\n",
    "        self.slot = {}\n",
    "        # nested elements = ordered container = AST = stack\n",
    "        self.nest = []"
   ]
  },
  {
   "cell_type": "code",
   "execution_count": 4,
   "metadata": {},
   "outputs": [
    {
     "name": "stdout",
     "output_type": "stream",
     "text": [
      "<__main__.Frame object at 0x7fac60338438>\n"
     ]
    }
   ],
   "source": [
    "hello = Frame('hello') ; print(hello)"
   ]
  },
  {
   "cell_type": "markdown",
   "metadata": {},
   "source": [
    "## text dump"
   ]
  },
  {
   "cell_type": "code",
   "execution_count": 5,
   "metadata": {},
   "outputs": [],
   "source": [
    "class Frame(Frame):\n",
    "\n",
    "    def __repr__(self): return self.dump()\n",
    "\n",
    "    # full tree dump\n",
    "    def dump(self,depth=0,prefix=''):\n",
    "        # head\n",
    "        tree = self._pad(depth) + self.head(prefix)\n",
    "        # infinite recursion block\n",
    "        if not depth: Frame._dump = []\n",
    "        if self in Frame._dump: return tree + ' _/'\n",
    "        else: Frame._dump.append(self)\n",
    "        # slot{}s\n",
    "        for i in self.slot:\n",
    "            tree += self.slot[i].dump(depth+1,'%s = '%i)\n",
    "        # nest[]ed\n",
    "        idx = 0\n",
    "        for j in self.nest:\n",
    "            tree += j.dump(depth+1,'%i: '%idx) ; idx += 1\n",
    "        # subtree dump\n",
    "        return tree\n",
    "\n",
    "    # <T:V> header only dump\n",
    "    def head(self,prefix=''):\n",
    "        return '%s<%s:%s> id:%x' % (prefix,self.type,self._val(),id(self))\n",
    "    \n",
    "    def _pad(self,depth):\n",
    "        return '\\n' + ' '*4 * depth\n",
    "    def _val(self):\n",
    "        return '%s' % self.val"
   ]
  },
  {
   "cell_type": "code",
   "execution_count": 6,
   "metadata": {},
   "outputs": [
    {
     "name": "stdout",
     "output_type": "stream",
     "text": [
      "\n",
      "<frame:hello> id:7fac60338b38\n"
     ]
    }
   ],
   "source": [
    "hello = Frame('hello') ; print(hello)"
   ]
  },
  {
   "cell_type": "markdown",
   "metadata": {},
   "source": [
    "## graph plot (in jupyter notebook)"
   ]
  },
  {
   "cell_type": "code",
   "execution_count": 7,
   "metadata": {},
   "outputs": [],
   "source": [
    "import graphviz\n",
    "\n",
    "class Frame(Frame):\n",
    "\n",
    "    def plot(self,dot=None,parent=None,link='',color='black'):\n",
    "        if not dot:\n",
    "            dot = graphviz.Digraph() ; dot.attr(rankdir='LR')\n",
    "            Frame._plot = []\n",
    "        # node\n",
    "        dot.node('%s'%id(self),label='%s:%s'%(self.type,self._val()))\n",
    "        if parent: dot.edge('%s'%id(parent),'%s'%id(self),label='%s'%link,color=color)\n",
    "        # infinite recursion block\n",
    "        if self in Frame._plot: return dot\n",
    "        else: Frame._plot.append(self)\n",
    "        # sub slot{}s\n",
    "        for i in self.slot:\n",
    "            dot = self.slot[i].plot(dot,parent=self,link=i,color='blue')\n",
    "        # nest[]ed\n",
    "        idx = 0\n",
    "        for j in self.nest:\n",
    "            dot = j.plot(dot,parent=self,link=idx,color='green') ; idx += 1\n",
    "        # subplot\n",
    "        return dot"
   ]
  },
  {
   "cell_type": "code",
   "execution_count": 8,
   "metadata": {},
   "outputs": [
    {
     "name": "stdout",
     "output_type": "stream",
     "text": [
      "\n",
      "<frame:hello> id:7fac603449e8\n"
     ]
    },
    {
     "data": {
      "image/svg+xml": [
       "<?xml version=\"1.0\" encoding=\"UTF-8\" standalone=\"no\"?>\n",
       "<!DOCTYPE svg PUBLIC \"-//W3C//DTD SVG 1.1//EN\"\n",
       " \"http://www.w3.org/Graphics/SVG/1.1/DTD/svg11.dtd\">\n",
       "<!-- Generated by graphviz version 2.38.0 (20140413.2041)\n",
       " -->\n",
       "<!-- Title: %3 Pages: 1 -->\n",
       "<svg width=\"112pt\" height=\"44pt\"\n",
       " viewBox=\"0.00 0.00 111.99 44.00\" xmlns=\"http://www.w3.org/2000/svg\" xmlns:xlink=\"http://www.w3.org/1999/xlink\">\n",
       "<g id=\"graph0\" class=\"graph\" transform=\"scale(1 1) rotate(0) translate(4 40)\">\n",
       "<title>%3</title>\n",
       "<polygon fill=\"white\" stroke=\"none\" points=\"-4,4 -4,-40 107.991,-40 107.991,4 -4,4\"/>\n",
       "<!-- 140378325141992 -->\n",
       "<g id=\"node1\" class=\"node\"><title>140378325141992</title>\n",
       "<ellipse fill=\"none\" stroke=\"black\" cx=\"51.9954\" cy=\"-18\" rx=\"51.9908\" ry=\"18\"/>\n",
       "<text text-anchor=\"middle\" x=\"51.9954\" y=\"-14.3\" font-family=\"Times,serif\" font-size=\"14.00\">frame:hello</text>\n",
       "</g>\n",
       "</g>\n",
       "</svg>\n"
      ],
      "text/plain": [
       "<graphviz.dot.Digraph at 0x7fac60344a58>"
      ]
     },
     "execution_count": 8,
     "metadata": {},
     "output_type": "execute_result"
    }
   ],
   "source": [
    "hello = Frame('hello') ; print(hello) ; hello.plot()"
   ]
  },
  {
   "cell_type": "markdown",
   "metadata": {},
   "source": [
    "## operators"
   ]
  },
  {
   "cell_type": "code",
   "execution_count": 9,
   "metadata": {},
   "outputs": [],
   "source": [
    "class Frame(Frame):\n",
    "\n",
    "    # A[key]\n",
    "    def __getitem__(self,key):\n",
    "        return self.slot[key]\n",
    "\n",
    "    # A[key] = B\n",
    "    def __setitem__(self,key,that):\n",
    "        if callable(that): self[key] = Cmd(that) ; return self\n",
    "        self.slot[key] = that ; return self\n",
    "\n",
    "    # A << B -> A[B.type] = B\n",
    "    def __lshift__(self,that):\n",
    "        if callable(that): return self << Cmd(that)\n",
    "        self[that.type] = that ; return self\n",
    "\n",
    "    # A >> B -> A[B.val] = B\n",
    "    def __rshift__(self,that):\n",
    "        if callable(that): return self >> Cmd(that)\n",
    "        self[that.val ] = that ; return self\n",
    "\n",
    "    # A // B stack push\n",
    "    def __floordiv__(self,that):\n",
    "        if isinstance(that,str): return self // String(that)\n",
    "        self.nest.append(that) ; return self"
   ]
  },
  {
   "cell_type": "code",
   "execution_count": 10,
   "metadata": {},
   "outputs": [
    {
     "name": "stdout",
     "output_type": "stream",
     "text": [
      "\n",
      "<frame:hello> id:7fac603456a0\n",
      "    0: <frame:world> id:7fac603457b8\n"
     ]
    },
    {
     "data": {
      "image/svg+xml": [
       "<?xml version=\"1.0\" encoding=\"UTF-8\" standalone=\"no\"?>\n",
       "<!DOCTYPE svg PUBLIC \"-//W3C//DTD SVG 1.1//EN\"\n",
       " \"http://www.w3.org/Graphics/SVG/1.1/DTD/svg11.dtd\">\n",
       "<!-- Generated by graphviz version 2.38.0 (20140413.2041)\n",
       " -->\n",
       "<!-- Title: %3 Pages: 1 -->\n",
       "<svg width=\"264pt\" height=\"44pt\"\n",
       " viewBox=\"0.00 0.00 264.18 44.00\" xmlns=\"http://www.w3.org/2000/svg\" xmlns:xlink=\"http://www.w3.org/1999/xlink\">\n",
       "<g id=\"graph0\" class=\"graph\" transform=\"scale(1 1) rotate(0) translate(4 40)\">\n",
       "<title>%3</title>\n",
       "<polygon fill=\"white\" stroke=\"none\" points=\"-4,4 -4,-40 260.181,-40 260.181,4 -4,4\"/>\n",
       "<!-- 140378325145248 -->\n",
       "<g id=\"node1\" class=\"node\"><title>140378325145248</title>\n",
       "<ellipse fill=\"none\" stroke=\"black\" cx=\"51.9954\" cy=\"-18\" rx=\"51.9908\" ry=\"18\"/>\n",
       "<text text-anchor=\"middle\" x=\"51.9954\" y=\"-14.3\" font-family=\"Times,serif\" font-size=\"14.00\">frame:hello</text>\n",
       "</g>\n",
       "<!-- 140378325145528 -->\n",
       "<g id=\"node2\" class=\"node\"><title>140378325145528</title>\n",
       "<ellipse fill=\"none\" stroke=\"black\" cx=\"201.586\" cy=\"-18\" rx=\"54.6905\" ry=\"18\"/>\n",
       "<text text-anchor=\"middle\" x=\"201.586\" y=\"-14.3\" font-family=\"Times,serif\" font-size=\"14.00\">frame:world</text>\n",
       "</g>\n",
       "<!-- 140378325145248&#45;&gt;140378325145528 -->\n",
       "<g id=\"edge1\" class=\"edge\"><title>140378325145248&#45;&gt;140378325145528</title>\n",
       "<path fill=\"none\" stroke=\"green\" d=\"M104.201,-18C114.675,-18 125.82,-18 136.675,-18\"/>\n",
       "<polygon fill=\"green\" stroke=\"green\" points=\"136.962,-21.5001 146.962,-18 136.962,-14.5001 136.962,-21.5001\"/>\n",
       "<text text-anchor=\"middle\" x=\"125.491\" y=\"-21.8\" font-family=\"Times,serif\" font-size=\"14.00\">0</text>\n",
       "</g>\n",
       "</g>\n",
       "</svg>\n"
      ],
      "text/plain": [
       "<graphviz.dot.Digraph at 0x7fac60345c50>"
      ]
     },
     "execution_count": 10,
     "metadata": {},
     "output_type": "execute_result"
    }
   ],
   "source": [
    "\n",
    "hello = Frame('hello') // Frame('world') ; print(hello) ; hello.plot()"
   ]
  },
  {
   "cell_type": "code",
   "execution_count": 11,
   "metadata": {},
   "outputs": [],
   "source": [
    "class Frame(Frame):\n",
    "\n",
    "    def pop(self): return self.nest.pop(-1)\n",
    "    def top(self): return self.nest[-1]"
   ]
  },
  {
   "cell_type": "markdown",
   "metadata": {},
   "source": [
    "# Primitive data: symbol, string, numbers"
   ]
  },
  {
   "cell_type": "code",
   "execution_count": 12,
   "metadata": {},
   "outputs": [],
   "source": [
    "class Primitive(Frame): pass\n",
    "class Symbol(Primitive): pass\n",
    "class String(Primitive): pass"
   ]
  },
  {
   "cell_type": "markdown",
   "metadata": {},
   "source": [
    "# EDS: Executable Data Structure"
   ]
  },
  {
   "cell_type": "code",
   "execution_count": 13,
   "metadata": {},
   "outputs": [],
   "source": [
    "class Active(Frame): pass"
   ]
  },
  {
   "cell_type": "markdown",
   "metadata": {},
   "source": [
    "### Stack Virtual Machine"
   ]
  },
  {
   "cell_type": "code",
   "execution_count": 14,
   "metadata": {},
   "outputs": [
    {
     "name": "stdout",
     "output_type": "stream",
     "text": [
      "\n",
      "<vm:UPML> id:7fac60338f28\n",
      "    vm = <vm:UPML> id:7fac60338f28 _/\n"
     ]
    },
    {
     "data": {
      "image/svg+xml": [
       "<?xml version=\"1.0\" encoding=\"UTF-8\" standalone=\"no\"?>\n",
       "<!DOCTYPE svg PUBLIC \"-//W3C//DTD SVG 1.1//EN\"\n",
       " \"http://www.w3.org/Graphics/SVG/1.1/DTD/svg11.dtd\">\n",
       "<!-- Generated by graphviz version 2.38.0 (20140413.2041)\n",
       " -->\n",
       "<!-- Title: %3 Pages: 1 -->\n",
       "<svg width=\"108pt\" height=\"77pt\"\n",
       " viewBox=\"0.00 0.00 108.09 77.00\" xmlns=\"http://www.w3.org/2000/svg\" xmlns:xlink=\"http://www.w3.org/1999/xlink\">\n",
       "<g id=\"graph0\" class=\"graph\" transform=\"scale(1 1) rotate(0) translate(4 73)\">\n",
       "<title>%3</title>\n",
       "<polygon fill=\"white\" stroke=\"none\" points=\"-4,4 -4,-73 104.091,-73 104.091,4 -4,4\"/>\n",
       "<!-- 140378325094184 -->\n",
       "<g id=\"node1\" class=\"node\"><title>140378325094184</title>\n",
       "<ellipse fill=\"none\" stroke=\"black\" cx=\"50.0456\" cy=\"-18\" rx=\"50.0912\" ry=\"18\"/>\n",
       "<text text-anchor=\"middle\" x=\"50.0456\" y=\"-14.3\" font-family=\"Times,serif\" font-size=\"14.00\">vm:UPML</text>\n",
       "</g>\n",
       "<!-- 140378325094184&#45;&gt;140378325094184 -->\n",
       "<g id=\"edge1\" class=\"edge\"><title>140378325094184&#45;&gt;140378325094184</title>\n",
       "<path fill=\"none\" stroke=\"blue\" d=\"M32.3255,-35.0373C28.7092,-44.8579 34.6159,-54 50.0456,-54 59.6891,-54 65.6127,-50.4289 67.8164,-45.3529\"/>\n",
       "<polygon fill=\"blue\" stroke=\"blue\" points=\"71.3149,-45.0199 67.7656,-35.0373 64.315,-45.0545 71.3149,-45.0199\"/>\n",
       "<text text-anchor=\"middle\" x=\"50.0456\" y=\"-57.8\" font-family=\"Times,serif\" font-size=\"14.00\">vm</text>\n",
       "</g>\n",
       "</g>\n",
       "</svg>\n"
      ],
      "text/plain": [
       "<graphviz.dot.Digraph at 0x7fac60338ef0>"
      ]
     },
     "execution_count": 14,
     "metadata": {},
     "output_type": "execute_result"
    }
   ],
   "source": [
    "# Virtual Machine\n",
    "class VM(Active): pass\n",
    "\n",
    "vm = VM('UPML') ; vm << vm\n",
    "\n",
    "print(vm) ; vm.plot()"
   ]
  },
  {
   "cell_type": "markdown",
   "metadata": {},
   "source": [
    "### Commands: wrapped functions applied to VM context"
   ]
  },
  {
   "cell_type": "code",
   "execution_count": 15,
   "metadata": {},
   "outputs": [],
   "source": [
    "# Command: wrapper for function F(context)\n",
    "class Cmd(Active):\n",
    "    def __init__(self, F):\n",
    "        Active.__init__(self,F.__name__)\n",
    "        self.fn = F\n",
    "    def eval(self,ctx):\n",
    "        self.fn(ctx)"
   ]
  },
  {
   "cell_type": "markdown",
   "metadata": {},
   "source": [
    "**Context** is some stack VM: stack for data manipulations, and environment (vocabulary) for variables lookup and storage.\n",
    "\n",
    "As *any `Frame` has `nest[]` as a stack and `slot{}` as vocabulary*, in the `metaL` model we can apply any command to any data."
   ]
  },
  {
   "cell_type": "markdown",
   "metadata": {},
   "source": [
    "# FORTH-like concatenative language"
   ]
  },
  {
   "cell_type": "markdown",
   "metadata": {},
   "source": [
    "It can be easier to use a special language than Python, FORTH is the simplest programming language from the viewpoint of implementation."
   ]
  },
  {
   "cell_type": "markdown",
   "metadata": {},
   "source": [
    "### no-syntax lexer uses PLY library"
   ]
  },
  {
   "cell_type": "code",
   "execution_count": 16,
   "metadata": {},
   "outputs": [],
   "source": [
    "import ply.lex  as lex\n",
    "\n",
    "tokens = ['symbol']\n",
    "\n",
    "t_ignore         = ' \\t\\r\\n'\n",
    "t_ignore_comment = r'[\\#\\\\].*'\n",
    "\n",
    "def t_symbol(t):\n",
    "    r'[`]|[^ \\t\\r\\n\\#\\\\]+'\n",
    "    return Symbol(t.value)\n",
    "\n",
    "def t_error(t): raise SyntaxError(t)"
   ]
  },
  {
   "cell_type": "markdown",
   "metadata": {},
   "source": [
    "## Interpreter"
   ]
  },
  {
   "cell_type": "markdown",
   "metadata": {},
   "source": [
    "It's the classical `WORD-FIND-EXECUTE` loop"
   ]
  },
  {
   "cell_type": "code",
   "execution_count": 19,
   "metadata": {},
   "outputs": [],
   "source": [
    "def WORD(ctx):\n",
    "    token = ctx.lexer.token()\n",
    "    if token: ctx // token\n",
    "    return token\n",
    "vm['`'] = WORD ; vm >> WORD\n",
    "\n",
    "def FIND(ctx):\n",
    "    token = ctx.pop()\n",
    "    try:             ctx // ctx[token.val] ; return True\n",
    "    except KeyError: ctx // token          ; return False\n",
    "vm >> FIND\n",
    "\n",
    "def EVAL(ctx): ctx.pop().eval(ctx)\n",
    "vm['EXECUTE'] = EVAL\n",
    "\n",
    "def INTERP(ctx):\n",
    "    ctx.lexer = lex.lex() ; ctx.lexer.input(ctx.pop().val)\n",
    "    while True:\n",
    "        if not WORD(ctx): break\n",
    "        if isinstance(ctx.top(),Symbol):\n",
    "            if not FIND(ctx): raise SyntaxError(ctx.top())\n",
    "        EVAL(ctx)\n",
    "        print(ctx.plot().view())\n",
    "vm['INTERPRET'] = INTERP"
   ]
  },
  {
   "cell_type": "code",
   "execution_count": 20,
   "metadata": {},
   "outputs": [
    {
     "data": {
      "image/svg+xml": [
       "<?xml version=\"1.0\" encoding=\"UTF-8\" standalone=\"no\"?>\n",
       "<!DOCTYPE svg PUBLIC \"-//W3C//DTD SVG 1.1//EN\"\n",
       " \"http://www.w3.org/Graphics/SVG/1.1/DTD/svg11.dtd\">\n",
       "<!-- Generated by graphviz version 2.38.0 (20140413.2041)\n",
       " -->\n",
       "<!-- Title: %3 Pages: 1 -->\n",
       "<svg width=\"337pt\" height=\"260pt\"\n",
       " viewBox=\"0.00 0.00 336.68 260.00\" xmlns=\"http://www.w3.org/2000/svg\" xmlns:xlink=\"http://www.w3.org/1999/xlink\">\n",
       "<g id=\"graph0\" class=\"graph\" transform=\"scale(1 1) rotate(0) translate(4 256)\">\n",
       "<title>%3</title>\n",
       "<polygon fill=\"white\" stroke=\"none\" points=\"-4,4 -4,-256 332.681,-256 332.681,4 -4,4\"/>\n",
       "<!-- 140378325094184 -->\n",
       "<g id=\"node1\" class=\"node\"><title>140378325094184</title>\n",
       "<ellipse fill=\"none\" stroke=\"black\" cx=\"50.0456\" cy=\"-126\" rx=\"50.0912\" ry=\"18\"/>\n",
       "<text text-anchor=\"middle\" x=\"50.0456\" y=\"-122.3\" font-family=\"Times,serif\" font-size=\"14.00\">vm:UPML</text>\n",
       "</g>\n",
       "<!-- 140378325094184&#45;&gt;140378325094184 -->\n",
       "<g id=\"edge4\" class=\"edge\"><title>140378325094184&#45;&gt;140378325094184</title>\n",
       "<path fill=\"none\" stroke=\"blue\" d=\"M31.6167,-143.037C27.8557,-152.858 33.9987,-162 50.0456,-162 60.0749,-162 66.2354,-158.429 68.5273,-153.353\"/>\n",
       "<polygon fill=\"blue\" stroke=\"blue\" points=\"72.0257,-153.019 68.4744,-143.037 65.0258,-153.055 72.0257,-153.019\"/>\n",
       "<text text-anchor=\"middle\" x=\"50.0456\" y=\"-165.8\" font-family=\"Times,serif\" font-size=\"14.00\">vm</text>\n",
       "</g>\n",
       "<!-- 140378324876648 -->\n",
       "<g id=\"node2\" class=\"node\"><title>140378324876648</title>\n",
       "<ellipse fill=\"none\" stroke=\"black\" cx=\"268.886\" cy=\"-234\" rx=\"55.7903\" ry=\"18\"/>\n",
       "<text text-anchor=\"middle\" x=\"268.886\" y=\"-230.3\" font-family=\"Times,serif\" font-size=\"14.00\">cmd:WORD</text>\n",
       "</g>\n",
       "<!-- 140378325094184&#45;&gt;140378324876648 -->\n",
       "<g id=\"edge1\" class=\"edge\"><title>140378325094184&#45;&gt;140378324876648</title>\n",
       "<path fill=\"none\" stroke=\"blue\" d=\"M68.2854,-143.012C81.1403,-154.946 99.6014,-170.571 118.091,-181 148.421,-198.107 185.261,-211.23 214.816,-220.138\"/>\n",
       "<polygon fill=\"blue\" stroke=\"blue\" points=\"213.959,-223.534 224.54,-222.997 215.934,-216.818 213.959,-223.534\"/>\n",
       "<text text-anchor=\"middle\" x=\"154.591\" y=\"-215.8\" font-family=\"Times,serif\" font-size=\"14.00\">WORD</text>\n",
       "</g>\n",
       "<!-- 140378324876592 -->\n",
       "<g id=\"node3\" class=\"node\"><title>140378324876592</title>\n",
       "<ellipse fill=\"none\" stroke=\"black\" cx=\"268.886\" cy=\"-180\" rx=\"55.7903\" ry=\"18\"/>\n",
       "<text text-anchor=\"middle\" x=\"268.886\" y=\"-176.3\" font-family=\"Times,serif\" font-size=\"14.00\">cmd:WORD</text>\n",
       "</g>\n",
       "<!-- 140378325094184&#45;&gt;140378324876592 -->\n",
       "<g id=\"edge2\" class=\"edge\"><title>140378325094184&#45;&gt;140378324876592</title>\n",
       "<path fill=\"none\" stroke=\"blue\" d=\"M89.6064,-137.26C98.9102,-139.884 108.837,-142.609 118.091,-145 149.065,-153.003 183.851,-161.18 212.098,-167.615\"/>\n",
       "<polygon fill=\"blue\" stroke=\"blue\" points=\"211.664,-171.106 222.19,-169.904 213.212,-164.279 211.664,-171.106\"/>\n",
       "<text text-anchor=\"middle\" x=\"154.591\" y=\"-165.8\" font-family=\"Times,serif\" font-size=\"14.00\">`</text>\n",
       "</g>\n",
       "<!-- 140378324876984 -->\n",
       "<g id=\"node4\" class=\"node\"><title>140378324876984</title>\n",
       "<ellipse fill=\"none\" stroke=\"black\" cx=\"268.886\" cy=\"-126\" rx=\"51.9908\" ry=\"18\"/>\n",
       "<text text-anchor=\"middle\" x=\"268.886\" y=\"-122.3\" font-family=\"Times,serif\" font-size=\"14.00\">cmd:EVAL</text>\n",
       "</g>\n",
       "<!-- 140378325094184&#45;&gt;140378324876984 -->\n",
       "<g id=\"edge3\" class=\"edge\"><title>140378325094184&#45;&gt;140378324876984</title>\n",
       "<path fill=\"none\" stroke=\"blue\" d=\"M100.25,-126C131.731,-126 172.82,-126 206.439,-126\"/>\n",
       "<polygon fill=\"blue\" stroke=\"blue\" points=\"206.614,-129.5 216.614,-126 206.614,-122.5 206.614,-129.5\"/>\n",
       "<text text-anchor=\"middle\" x=\"154.591\" y=\"-129.8\" font-family=\"Times,serif\" font-size=\"14.00\">EXECUTE</text>\n",
       "</g>\n",
       "<!-- 140378324876872 -->\n",
       "<g id=\"node5\" class=\"node\"><title>140378324876872</title>\n",
       "<ellipse fill=\"none\" stroke=\"black\" cx=\"268.886\" cy=\"-72\" rx=\"49.2915\" ry=\"18\"/>\n",
       "<text text-anchor=\"middle\" x=\"268.886\" y=\"-68.3\" font-family=\"Times,serif\" font-size=\"14.00\">cmd:FIND</text>\n",
       "</g>\n",
       "<!-- 140378325094184&#45;&gt;140378324876872 -->\n",
       "<g id=\"edge5\" class=\"edge\"><title>140378325094184&#45;&gt;140378324876872</title>\n",
       "<path fill=\"none\" stroke=\"blue\" d=\"M89.6064,-114.74C98.9102,-112.116 108.837,-109.391 118.091,-107 150.589,-98.6035 187.282,-90.0155 216.218,-83.4478\"/>\n",
       "<polygon fill=\"blue\" stroke=\"blue\" points=\"217.128,-86.8307 226.11,-81.2126 215.585,-80.0028 217.128,-86.8307\"/>\n",
       "<text text-anchor=\"middle\" x=\"154.591\" y=\"-110.8\" font-family=\"Times,serif\" font-size=\"14.00\">FIND</text>\n",
       "</g>\n",
       "<!-- 140378324877096 -->\n",
       "<g id=\"node6\" class=\"node\"><title>140378324877096</title>\n",
       "<ellipse fill=\"none\" stroke=\"black\" cx=\"268.886\" cy=\"-18\" rx=\"59.5901\" ry=\"18\"/>\n",
       "<text text-anchor=\"middle\" x=\"268.886\" y=\"-14.3\" font-family=\"Times,serif\" font-size=\"14.00\">cmd:INTERP</text>\n",
       "</g>\n",
       "<!-- 140378325094184&#45;&gt;140378324877096 -->\n",
       "<g id=\"edge6\" class=\"edge\"><title>140378325094184&#45;&gt;140378324877096</title>\n",
       "<path fill=\"none\" stroke=\"blue\" d=\"M67.6702,-109.143C80.5085,-96.9035 99.2167,-80.6818 118.091,-70 147.472,-53.3721 183.079,-40.742 212.205,-32.0953\"/>\n",
       "<polygon fill=\"blue\" stroke=\"blue\" points=\"213.182,-35.4563 221.815,-29.3156 211.237,-28.7319 213.182,-35.4563\"/>\n",
       "<text text-anchor=\"middle\" x=\"154.591\" y=\"-73.8\" font-family=\"Times,serif\" font-size=\"14.00\">INTERPRET</text>\n",
       "</g>\n",
       "</g>\n",
       "</svg>\n"
      ],
      "text/plain": [
       "<graphviz.dot.Digraph at 0x7fac602f26a0>"
      ]
     },
     "execution_count": 20,
     "metadata": {},
     "output_type": "execute_result"
    }
   ],
   "source": [
    "vm.plot()"
   ]
  },
  {
   "cell_type": "code",
   "execution_count": null,
   "metadata": {},
   "outputs": [],
   "source": []
  }
 ],
 "metadata": {
  "kernelspec": {
   "display_name": "Python 3",
   "language": "python",
   "name": "python3"
  },
  "language_info": {
   "codemirror_mode": {
    "name": "ipython",
    "version": 3
   },
   "file_extension": ".py",
   "mimetype": "text/x-python",
   "name": "python",
   "nbconvert_exporter": "python",
   "pygments_lexer": "ipython3",
   "version": "3.5.3"
  }
 },
 "nbformat": 4,
 "nbformat_minor": 2
}

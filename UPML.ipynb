{
 "cells": [
  {
   "cell_type": "markdown",
   "metadata": {},
   "source": [
    "# UPML\n",
    "## Unification & Pattern Matching Language\n",
    "\n",
    "(c) Dmitry Ponyatov <<dponyatov@gmail.com>> MIT 2019 All rights reserved\n",
    "\n",
    "github: https://bitbucket.org/ponyatov/UPML"
   ]
  },
  {
   "cell_type": "code",
   "execution_count": 1,
   "metadata": {},
   "outputs": [],
   "source": [
    "# %pip install -U pip\n",
    "# %pip install -U -r requirements.txt"
   ]
  },
  {
   "cell_type": "code",
   "execution_count": 2,
   "metadata": {},
   "outputs": [],
   "source": [
    "import os,sys\n",
    "import graphviz"
   ]
  },
  {
   "cell_type": "code",
   "execution_count": 3,
   "metadata": {},
   "outputs": [],
   "source": [
    "class Frame:\n",
    "\n",
    "    def __init__(self,V):\n",
    "        self.type = self.__class__.__name__.lower()\n",
    "        self.val  = V\n",
    "        self.slot = {}\n",
    "        self.nest = []"
   ]
  },
  {
   "cell_type": "code",
   "execution_count": 4,
   "metadata": {},
   "outputs": [
    {
     "name": "stdout",
     "output_type": "stream",
     "text": [
      "<__main__.Frame object at 0x7fc298346438>\n"
     ]
    }
   ],
   "source": [
    "hello = Frame('hello') ; print(hello)"
   ]
  },
  {
   "cell_type": "code",
   "execution_count": 5,
   "metadata": {},
   "outputs": [],
   "source": [
    "class Frame(Frame):\n",
    "\n",
    "    def __repr__(self): return self.dump()\n",
    "\n",
    "    # full tree dump\n",
    "    def dump(self,depth=0,prefix=''):\n",
    "        # head\n",
    "        tree = self._pad(depth) + self.head(prefix)\n",
    "        # infinite recursion block\n",
    "        if not depth: Frame._dump = []\n",
    "        if self in Frame._dump: return tree + ' _/'\n",
    "        else: Frame._dump.append(self)\n",
    "        # slot{}s\n",
    "        for i in self.slot:\n",
    "            tree += self.slot[i].dump(depth+1,'%s = '%i)\n",
    "        # nest[]ed\n",
    "        idx = 0\n",
    "        for j in self.nest:\n",
    "            tree += j.dump(depth+1,'%i: '%idx) ; idx += 1\n",
    "        # subtree dump\n",
    "        return tree\n",
    "\n",
    "    # <T:V> header only dump\n",
    "    def head(self,prefix=''):\n",
    "        return '%s<%s:%s> id:%x' % (prefix,self.type,self._val(),id(self))\n",
    "    \n",
    "    def _pad(self,depth):\n",
    "        return '\\n' + ' '*4 * depth\n",
    "    def _val(self):\n",
    "        return '%s' % self.val"
   ]
  },
  {
   "cell_type": "code",
   "execution_count": 6,
   "metadata": {},
   "outputs": [
    {
     "name": "stdout",
     "output_type": "stream",
     "text": [
      "\n",
      "<frame:hello> id:7fc298346978\n"
     ]
    }
   ],
   "source": [
    "hello = Frame('hello') ; print(hello)"
   ]
  },
  {
   "cell_type": "code",
   "execution_count": null,
   "metadata": {},
   "outputs": [],
   "source": []
  }
 ],
 "metadata": {
  "kernelspec": {
   "display_name": "Python 3",
   "language": "python",
   "name": "python3"
  },
  "language_info": {
   "codemirror_mode": {
    "name": "ipython",
    "version": 3
   },
   "file_extension": ".py",
   "mimetype": "text/x-python",
   "name": "python",
   "nbconvert_exporter": "python",
   "pygments_lexer": "ipython3",
   "version": "3.5.3"
  }
 },
 "nbformat": 4,
 "nbformat_minor": 2
}
